{
 "cells": [
  {
   "cell_type": "markdown",
   "id": "d0afbfc9-11d8-49ff-b7ca-84fa485d287c",
   "metadata": {},
   "source": [
    "<h1>Book Tracker</h1>\n",
    "\n",
    "This is a book or reading tracker system implemented in Python using object-oriented programming. It helps you keep track of your reading in the form of a table or data frame, where you can keep record of the books you're currently reading, have finished reading, have abandoned or paused, and plan to read. It also stores information on the books' title, author, publication year, and length (number of pages). Lastly, it stores your personal rating (on a scale of 1 to 5) for a book.\n",
    "\n",
    "The system includes methods to:\n",
    "* Add books to your \"library\" (a.k.a. table or data frame)\n",
    "* Remove books from your library\n",
    "* Edit a book's information in your library\n",
    "* Display library\n",
    "* Calculate your reading statistics for a specified \"shelf\" (e.g. Currently Reading)\n",
    "\n",
    "There is also a child class called AudiobookTracker that keeps track of your audiobooks. It includes an additional column that stores information on the audiobook's narrator.\n",
    "\n",
    "A child class I didn't implement in this project is a comic or graphic novel tracker, as the author is not necessarily the illustrator of the comic/graphic novel, so a comic/graphic novel child class can include an additional column for the illustrator."
   ]
  },
  {
   "cell_type": "code",
   "execution_count": 1,
   "id": "f0941382-b8ff-46fb-82f6-99b3a893a021",
   "metadata": {},
   "outputs": [],
   "source": [
    "# Import some libraries\n",
    "import pandas as pd\n",
    "\n",
    "# Make Python display the entire data frame\n",
    "pd.set_option('display.max_columns', None)\n",
    "pd.set_option('display.max_rows', None)\n",
    "\n",
    "# Create a class that keeps track of your reading or personal library of books\n",
    "class BookTracker:\n",
    "    \n",
    "    def __init__(self):\n",
    "        \n",
    "        # Initialize the class with a library attribute represented as a data frame containing info on the books, such as the book's title, author, rating, etc.\n",
    "        \n",
    "        self.library = pd.DataFrame(columns=['Shelf', 'Title', 'Author', 'Rating', 'Publication Year', 'Pages'])\n",
    "        \n",
    "    def add_book(self, book_list=[[]]):\n",
    "        \n",
    "        # This method accepts a list of lists containing info on the shelf, title, author, rating, publication year, and pages. Then, it adds the specfied book(s) to the library.\n",
    "        # Includes output of pointers if argument values were entered incorrectly.\n",
    "        \n",
    "        if book_list == []:\n",
    "            print('Make sure your entry is in the form of [[book1], [book2],...]')\n",
    "            return\n",
    "        \n",
    "        if all(isinstance(b, list) for b in book_list):\n",
    "            for book in book_list:\n",
    "                if len(book)==6:\n",
    "                    conditions = [isinstance(book[1], str), isinstance(book[2], str), isinstance(book[3], int) or (book[3] is None), isinstance(book[4], int), isinstance(book[5], int)]                                \n",
    "                    if all(conditions):\n",
    "                        if isinstance(book[3], int):\n",
    "                            conditions2 = [book[0] in ['Currently Reading', 'Read', 'Abandoned', 'Paused', 'Plan to Read'], (1 <= book[3] <= 5)]\n",
    "                            if all(conditions2):\n",
    "                                temp = pd.DataFrame([book], columns=['Shelf', 'Title', 'Author', 'Rating', 'Publication Year', 'Pages'])\n",
    "                                self.library = self.library.append(temp, ignore_index=True)\n",
    "                            else:\n",
    "                                print('''At least one of your entries is invalid.\n",
    "Make sure your entry for Shelf is one of the following: Currently Reading, Read, Abandoned, Paused, Plan to Read.\n",
    "Also, make sure your rating is between 1 and 5.''')\n",
    "                                return\n",
    "                        else:\n",
    "                            conditions2 = [book[0] in ['Currently Reading', 'Read', 'Abandoned', 'Paused', 'Plan to Read']]\n",
    "                            if all(conditions2):\n",
    "                                temp = pd.DataFrame([book], columns=['Shelf', 'Title', 'Author', 'Rating', 'Publication Year', 'Pages'])\n",
    "                                self.library = self.library.append(temp, ignore_index=True)\n",
    "                            else:\n",
    "                                print('''At least one of your entries is invalid.\n",
    "Make sure your entry for Shelf is one of the following: Currently Reading, Read, Abandoned, Paused, Plan to Read.''')\n",
    "                                return\n",
    "                    else:\n",
    "                        print('''At least one of your entries is invalid.\n",
    "Make sure you're entering str values for your book's title and author, and int values for rating, publication year, and pages. You can also enter None for your rating''')\n",
    "                        return\n",
    "                else:\n",
    "                    print('''You entered too many values or are missing some values. If you can't decide on a rating, enter None.\n",
    "Remember that you must enter values for Shelf, Title, Author, Rating, Publication Year, Pages, and Narrator''')\n",
    "                    return\n",
    "            print(\"Successfully added!\")\n",
    "        else:\n",
    "            print('Make sure your entry is in the form of [[book1], [book2],...]')\n",
    "      \n",
    "    def del_book(self, book_list=[[]]):\n",
    "        \n",
    "        # This method accepts a list of lists containing info on the book's title and author. Then, it deletes the specfied book(s) from the library.\n",
    "        # Includes output of pointers if argument values were entered incorrectly.\n",
    "        \n",
    "        if book_list == []:\n",
    "            print('Make sure your entry is in the form of [[book1], [book2],...]')\n",
    "            return\n",
    "        \n",
    "        if all(isinstance(b, list) for b in book_list):    \n",
    "            for book in book_list:\n",
    "                if len(book)==2:\n",
    "                    if (book[0] not in list(self.library['Title'])) or (book[1] not in list(self.library['Author'])) :\n",
    "                        print(\"The book you're trying to delete was not found in your library!\")\n",
    "                        return\n",
    "                    self.library.drop(self.library.loc[(self.library['Title'] == book[0]) & (self.library['Author'] == book[1])].index, inplace=True)\n",
    "                else:\n",
    "                    print('Please enter the book\\'s title and author.')\n",
    "                    return\n",
    "            print(\"Successfully deleted!\")\n",
    "        else:\n",
    "            print('Make sure your entry is in the form of [[book1], [book2],...]')\n",
    "             \n",
    "    def update_book(self, book=[], change=[[]]):\n",
    "        \n",
    "        # This method accepts two values: the first is a list containing a book's title and author, respectively, to identify the exact book you want to update, \n",
    "        # the second one is a list of lists containing the info (columns) you want to update and the new values to replace the old ones, respectively.\n",
    "        # Includes output of pointers if argument values were entered incorrectly. Also, note that a single of this method can only update the info of a single book.\n",
    "        \n",
    "        if change == []:\n",
    "            print('Make sure your entry is in the form of [[update1], [update2],...]')\n",
    "            return\n",
    "        \n",
    "        if isinstance(book, list) and len(book)==2:\n",
    "            if (book[0] not in list(self.library['Title'])) or (book[1] not in list(self.library['Author'])):\n",
    "                print(\"The book you're trying to update can't be found in your library!\")\n",
    "                return\n",
    "            if all(isinstance(c, list) for c in change):\n",
    "                for c in change:\n",
    "                    if len(c) == 2:\n",
    "                        temp = pd.DataFrame({c[0]:c[1]}, self.library.loc[(self.library['Title']==book[0]) & (self.library['Author']==book[1])].index, dtype=object)\n",
    "                        self.library.update(temp)\n",
    "                        if c[0]=='Title':\n",
    "                            book[0] = c[1]\n",
    "                        if c[1]=='Author':\n",
    "                            book[1] = c[1]\n",
    "                    else:\n",
    "                        print('You\\'re missing a value in your second argument!')\n",
    "                        return\n",
    "                print(\"Successfully updated!\")\n",
    "            else:\n",
    "                print('Make sure your entry in the 2nd argument is in the form of [[update1], [update2],...]')\n",
    "        else:\n",
    "            print('Please format your entry in the 1st argument as [book title, book author]')\n",
    "        \n",
    "    def display_library(self):\n",
    "        \n",
    "        # Displays all the books in your library (appearing as a data frame or table)\n",
    "        \n",
    "        print(self.library)\n",
    "\n",
    "    def library_stats(self, shelf=''):\n",
    "        \n",
    "        # This method takes the name of a shelf and outputs the stats of the specified shelf in your library\n",
    "        \n",
    "        if (shelf == '') or (shelf not in ['Currently Reading', 'Read', 'Abandoned', 'Paused', 'Plan to Read']):\n",
    "            print(\"Please enter one of the following: Currently Reading, Read, Abandoned, Paused, Plan to Read\")\n",
    "            return\n",
    "        \n",
    "        num_books = len(self.library.loc[self.library['Shelf']==shelf])\n",
    "        mean_rating = self.library.loc[self.library['Shelf']==shelf]['Rating'].mean().round(1)\n",
    "        mean_year, newest, oldest = self.library.loc[self.library['Shelf']==shelf]['Publication Year'].mean().round(1), self.library.loc[self.library['Shelf']==shelf]['Publication Year'].max(), self.library.loc[self.library['Shelf']==shelf]['Publication Year'].min()\n",
    "        mean_pages, shortest, longest = self.library.loc[self.library['Shelf']==shelf]['Pages'].mean().round(1), self.library.loc[self.library['Shelf']==shelf]['Pages'].min(), self.library.loc[self.library['Shelf']==shelf]['Pages'].max()\n",
    "\n",
    "        print('''There are {} books in your {} shelf\n",
    "Average rating: {}\n",
    "Average year of publication: {} | Publication year of your newest book: {} | Publication year of your oldest book: {}\n",
    "Average number of pages: {} | Length of your shortest book: {} | Length of your longest book: {}'''.format(num_books, shelf, mean_rating, mean_year, newest, oldest, mean_pages, shortest, longest))      "
   ]
  },
  {
   "cell_type": "code",
   "execution_count": 2,
   "id": "edd8add5-522d-4189-8fbd-fe79f38d8e7a",
   "metadata": {},
   "outputs": [],
   "source": [
    "\n",
    "# Create a child class of LibraryofBooks. This child class also includes info for the narrator, which is not present in physical books\n",
    "class AudiobookTracker(BookTracker):\n",
    "    def __init__(self):\n",
    "        super().__init__()\n",
    "        self.library['Narrator'] = []\n",
    "      \n",
    "    # Overwrite the add_book method of the parent class\n",
    "    def add_book(self, book_list=[[]]):\n",
    "        \n",
    "        # This method accepts a list of lists containing info on the shelf, title, author, rating, publication year, pages, and narrator. Then, it adds the specfied audiobook(s) to the library.\n",
    "        # Includes output of pointers if argument values were entered incorrectly.\n",
    "        \n",
    "        if book_list == []:\n",
    "            print('Make sure your entry is in the form of [[book1], [book2],...]')\n",
    "            return\n",
    "        \n",
    "        if all(isinstance(b, list) for b in book_list):\n",
    "            for book in book_list:\n",
    "                if len(book)==7:\n",
    "                    conditions = [isinstance(book[1], str), isinstance(book[2], str), isinstance(book[3], int) or (book[3] is None), isinstance(book[4], int), isinstance(book[5], int),\n",
    "                                 isinstance(book[6], str)]                                \n",
    "                    if all(conditions):\n",
    "                        if isinstance(book[3], int):\n",
    "                            conditions2 = [book[0] in ['Currently Reading', 'Read', 'Abandoned', 'Paused', 'Plan to Read'], (1 <= book[3] <= 5)]\n",
    "                            if all(conditions2):\n",
    "                                temp = pd.DataFrame([book], columns=['Shelf', 'Title', 'Author', 'Rating', 'Publication Year', 'Pages', 'Narrator'])\n",
    "                                self.library = self.library.append(temp, ignore_index=True)\n",
    "                            else:\n",
    "                                print('''At least one of your entries is invalid.\n",
    "Make sure your entry for Shelf is one of the following: Currently Reading, Read, Abandoned, Paused, Plan to Read.\n",
    "Also, make sure your rating is between 1 and 5.''')\n",
    "                                return\n",
    "                        else:\n",
    "                            conditions2 = [book[0] in ['Currently Reading', 'Read', 'Abandoned', 'Paused', 'Plan to Read']]\n",
    "                            if all(conditions2):\n",
    "                                temp = pd.DataFrame([book], columns=['Shelf', 'Title', 'Author', 'Rating', 'Publication Year', 'Pages', 'Narrator'])\n",
    "                                self.library = self.library.append(temp, ignore_index=True)\n",
    "                            else:\n",
    "                                print('''At least one of your entries is invalid.\n",
    "Make sure your entry for Shelf is one of the following: Currently Reading, Read, Abandoned, Paused, Plan to Read.''')\n",
    "                                return\n",
    "                    else:\n",
    "\n",
    "                        print('''At least one of your entries is invalid.\n",
    "Make sure you're entering str values for your audiobook's title, author and narrator, and int values for rating, publication year, and pages. You can also enter None for your rating''')\n",
    "                        return\n",
    "                else:\n",
    "                    print('''You entered too many values or are missing some values. If you can't decide on a rating, enter None.\n",
    "Remember that you must enter values for Shelf, Title, Author, Rating, Publication Year, Pages, and Narrator''')\n",
    "                    return\n",
    "            print(\"Successfully added!\")\n",
    "        else:\n",
    "            print('Make sure your entry is in the form of [[audiobook1], [audiobook2],...]')"
   ]
  },
  {
   "cell_type": "markdown",
   "id": "e2900087-0552-45c6-aa65-729e87cdb706",
   "metadata": {},
   "source": [
    "<h2>Testing Class Methods</h2>"
   ]
  },
  {
   "cell_type": "code",
   "execution_count": 3,
   "id": "a818e7a5-e6c9-46d3-8ab3-2afacc601480",
   "metadata": {},
   "outputs": [
    {
     "name": "stdout",
     "output_type": "stream",
     "text": [
      "Successfully added!\n",
      "               Shelf   Title Author Rating Publication Year Pages\n",
      "0  Currently Reading  Title1  Name1      4             2014   541\n",
      "1               Read  Title2  Name2   None             1998   410\n",
      "2               Read  Title3  Name3      5             2004   258\n"
     ]
    }
   ],
   "source": [
    "# Create an object\n",
    "Person1 = BookTracker()\n",
    "\n",
    "# Add books\n",
    "Person1.add_book([['Currently Reading', 'Title1', 'Name1', 4, 2014, 541], ['Read', 'Title2', 'Name2', None, 1998, 410], ['Read', 'Title3', 'Name3', 5, 2004, 258]])\n",
    "\n",
    "# Display library\n",
    "Person1.display_library()"
   ]
  },
  {
   "cell_type": "code",
   "execution_count": 4,
   "id": "b4e56b67-8e47-4e2d-bf66-eb98b651ba0f",
   "metadata": {},
   "outputs": [
    {
     "name": "stdout",
     "output_type": "stream",
     "text": [
      "There are 2 books in your Read shelf\n",
      "Average rating: 5.0\n",
      "Average year of publication: 2001.0 | Publication year of your newest book: 2004 | Publication year of your oldest book: 1998\n",
      "Average number of pages: 334.0 | Length of your shortest book: 258 | Length of your longest book: 410\n"
     ]
    }
   ],
   "source": [
    "# Get stats\n",
    "Person1.library_stats('Read')"
   ]
  },
  {
   "cell_type": "code",
   "execution_count": 5,
   "id": "2f7fc901-b661-410d-a37d-8d15733fa682",
   "metadata": {},
   "outputs": [
    {
     "name": "stdout",
     "output_type": "stream",
     "text": [
      "Successfully deleted!\n",
      "Successfully updated!\n",
      "               Shelf   Title Author Rating Publication Year Pages\n",
      "0  Currently Reading  Title1  Name1      4             2014   541\n",
      "1               Read  Title2  Name2      2             1999   411\n"
     ]
    }
   ],
   "source": [
    "# Delete a book\n",
    "Person1.del_book([['Title3', 'Name3']])\n",
    "\n",
    "# Update a book's info: change the rating and pages of Title2 to 2 and 411, respectively.\n",
    "Person1.update_book(['Title2', 'Name2'], [['Rating', 2], ['Pages', 411], ['Publication Year', 1999]])\n",
    "\n",
    "Person1.display_library()"
   ]
  },
  {
   "cell_type": "code",
   "execution_count": 6,
   "id": "34988f54-7b4b-4079-8601-046600538908",
   "metadata": {},
   "outputs": [
    {
     "name": "stdout",
     "output_type": "stream",
     "text": [
      "Successfully added!\n",
      "          Shelf    Title  Author Rating Publication Year Pages Narrator\n",
      "0     Abandoned  Title A  Name A      3             2011   522   Voice1\n",
      "1  Plan to Read  Title B  Name B   None             1990   499   Voice2\n"
     ]
    }
   ],
   "source": [
    "# Create object from the child class\n",
    "Person2 = AudiobookTracker()\n",
    "\n",
    "# Add audiobooks\n",
    "Person2.add_book([['Abandoned', 'Title A', 'Name A', 3, 2011, 522, 'Voice1'], ['Plan to Read', 'Title B', 'Name B', None, 1990, 499, 'Voice2']])\n",
    "\n",
    "# Display library\n",
    "Person2.display_library()"
   ]
  },
  {
   "cell_type": "markdown",
   "id": "e5efe529-756b-4aae-99f7-98ee7d1c9943",
   "metadata": {},
   "source": [
    "<h5>So far, if you input the correct arguments, all the methods work as it should. Now let's test some inputs with an incorrect format.</h5>"
   ]
  },
  {
   "cell_type": "code",
   "execution_count": 7,
   "id": "c626027f-dac9-447e-b045-b656b18f1ca1",
   "metadata": {},
   "outputs": [],
   "source": [
    "PersonA = BookTracker()"
   ]
  },
  {
   "cell_type": "markdown",
   "id": "c3632a3a-7a06-476a-b573-ac8497a76f02",
   "metadata": {},
   "source": [
    "<h5>Test add_book method on PersonA object</h5>"
   ]
  },
  {
   "cell_type": "code",
   "execution_count": 8,
   "id": "f14eba08-6515-4e84-8551-3e6c3ec0be48",
   "metadata": {},
   "outputs": [
    {
     "name": "stdout",
     "output_type": "stream",
     "text": [
      "Make sure your entry is in the form of [[book1], [book2],...]\n"
     ]
    }
   ],
   "source": [
    "# Test case where a book's info is not entered within another list\n",
    "PersonA.add_book(['Read', 'T1', 'N1', 5, 1989, 532])"
   ]
  },
  {
   "cell_type": "code",
   "execution_count": 9,
   "id": "69926f72-5aaa-43f2-bd58-bd62a287ef3a",
   "metadata": {},
   "outputs": [
    {
     "name": "stdout",
     "output_type": "stream",
     "text": [
      "You entered too many values or are missing some values. If you can't decide on a rating, enter None.\n",
      "Remember that you must enter values for Shelf, Title, Author, Rating, Publication Year, Pages, and Narrator\n"
     ]
    }
   ],
   "source": [
    "# Test case with two few values entered (intuitively, too many values entered should also produce the same results)\n",
    "PersonA.add_book([['Read', 'T2']])"
   ]
  },
  {
   "cell_type": "code",
   "execution_count": 10,
   "id": "43450d38-1b3b-44f1-963d-0a510b094e27",
   "metadata": {},
   "outputs": [
    {
     "name": "stdout",
     "output_type": "stream",
     "text": [
      "At least one of your entries is invalid.\n",
      "Make sure you're entering str values for your book's title and author, and int values for rating, publication year, and pages. You can also enter None for your rating\n"
     ]
    }
   ],
   "source": [
    "# Test case where values of the wrong data type are entered (input of int where it should be str)\n",
    "PersonA.add_book([['Read', 1111, 'N1', 2, 1945, 255]])"
   ]
  },
  {
   "cell_type": "code",
   "execution_count": 11,
   "id": "9f5bcf23-b998-4cb1-b2c6-94bb5fa815c6",
   "metadata": {},
   "outputs": [
    {
     "name": "stdout",
     "output_type": "stream",
     "text": [
      "At least one of your entries is invalid.\n",
      "Make sure you're entering str values for your book's title and author, and int values for rating, publication year, and pages. You can also enter None for your rating\n"
     ]
    }
   ],
   "source": [
    "# Test another case where values of the wrong data type are entered (input of str where it should be int)\n",
    "PersonA.add_book([['Read', '1111', 'N1', 'two', 1945, 255]])"
   ]
  },
  {
   "cell_type": "code",
   "execution_count": 12,
   "id": "5fccdac8-d086-4bd6-a020-6db456fd6f31",
   "metadata": {},
   "outputs": [
    {
     "name": "stdout",
     "output_type": "stream",
     "text": [
      "Make sure your entry is in the form of [[book1], [book2],...]\n"
     ]
    }
   ],
   "source": [
    "# Test input of an empty list\n",
    "PersonA.add_book([])"
   ]
  },
  {
   "cell_type": "markdown",
   "id": "2b91789d-c22c-4408-8237-0c38870d5abe",
   "metadata": {},
   "source": [
    "<h5>Test del_book method on Person1 object</h5>"
   ]
  },
  {
   "cell_type": "code",
   "execution_count": 13,
   "id": "ae3dc992-8b76-48f2-9a8d-d19c83aed0d8",
   "metadata": {},
   "outputs": [
    {
     "name": "stdout",
     "output_type": "stream",
     "text": [
      "Please enter the book's title and author.\n"
     ]
    }
   ],
   "source": [
    "# Test input with missing author\n",
    "Person1.del_book([['Title1']])"
   ]
  },
  {
   "cell_type": "code",
   "execution_count": 14,
   "id": "445d87ea-ac7e-472e-89eb-596233664f86",
   "metadata": {},
   "outputs": [
    {
     "name": "stdout",
     "output_type": "stream",
     "text": [
      "Make sure your entry is in the form of [[book1], [book2],...]\n"
     ]
    }
   ],
   "source": [
    "# Test input entered in the wrong format\n",
    "Person1.del_book(['Title1', 'Name1'])"
   ]
  },
  {
   "cell_type": "code",
   "execution_count": 15,
   "id": "41810e19-ae58-433a-9daf-3e8274d47973",
   "metadata": {},
   "outputs": [
    {
     "name": "stdout",
     "output_type": "stream",
     "text": [
      "The book you're trying to delete was not found in your library!\n"
     ]
    }
   ],
   "source": [
    "# Test deletion of a nonexistant book\n",
    "Person1.del_book([['Hello', 'Name1']])"
   ]
  },
  {
   "cell_type": "markdown",
   "id": "64c85345-a8a4-4cca-b926-693b49647963",
   "metadata": {},
   "source": [
    "<h5>Test update_book method on Person1 object</h5>"
   ]
  },
  {
   "cell_type": "code",
   "execution_count": 16,
   "id": "666c8f3d-96da-4e2d-a431-b94fe00d929e",
   "metadata": {},
   "outputs": [
    {
     "name": "stdout",
     "output_type": "stream",
     "text": [
      "Please format your entry in the 1st argument as [book title, book author]\n"
     ]
    }
   ],
   "source": [
    "# Test input with missing values in the 1st argument\n",
    "Person1.update_book(['Title1'], [['Shelf', 'Read']])"
   ]
  },
  {
   "cell_type": "code",
   "execution_count": 17,
   "id": "615e99d8-9ec8-4b99-af8b-ee23c4f462db",
   "metadata": {},
   "outputs": [
    {
     "name": "stdout",
     "output_type": "stream",
     "text": [
      "You're missing a value in your second argument!\n"
     ]
    }
   ],
   "source": [
    "# Test input with missing values in the 2nd argument\n",
    "Person1.update_book(['Title1', 'Name1'], [['Shelf'], ['Rating', 5]])"
   ]
  },
  {
   "cell_type": "code",
   "execution_count": 18,
   "id": "bc8958fa-c4f0-492b-82fd-d1431a73ca8d",
   "metadata": {},
   "outputs": [
    {
     "name": "stdout",
     "output_type": "stream",
     "text": [
      "Please format your entry in the 1st argument as [book title, book author]\n"
     ]
    }
   ],
   "source": [
    "# Test input of incorrect format in the 1st argument\n",
    "Person1.update_book('Title1, Name1', [['Shelf', 'Abandoned'], ['Rating', 5]])"
   ]
  },
  {
   "cell_type": "code",
   "execution_count": 19,
   "id": "cec9341f-1020-4813-81ff-91261f19ef0d",
   "metadata": {},
   "outputs": [
    {
     "name": "stdout",
     "output_type": "stream",
     "text": [
      "Make sure your entry in the 2nd argument is in the form of [[update1], [update2],...]\n"
     ]
    }
   ],
   "source": [
    "# Test input of incorrect format in the 2nd argument\n",
    "Person1.update_book(['Title1', 'Name1'], ['Shelf', 'Read'])"
   ]
  },
  {
   "cell_type": "code",
   "execution_count": 20,
   "id": "40c12bf9-75ba-4097-b895-e89d8c9c3175",
   "metadata": {},
   "outputs": [
    {
     "name": "stdout",
     "output_type": "stream",
     "text": [
      "Make sure your entry in the 2nd argument is in the form of [[update1], [update2],...]\n"
     ]
    }
   ],
   "source": [
    "# Test another input of incorrect format in the 2nd argument\n",
    "Person1.update_book(['Title1', 'Name1'], 'Shelf, Read')"
   ]
  },
  {
   "cell_type": "markdown",
   "id": "ec5a863d-8cd3-4191-9955-faf29b76a72c",
   "metadata": {},
   "source": [
    "<h5> Test library_stats method</h5>"
   ]
  },
  {
   "cell_type": "code",
   "execution_count": 21,
   "id": "d11198e1-1c01-4abe-8211-769085e702e5",
   "metadata": {},
   "outputs": [
    {
     "name": "stdout",
     "output_type": "stream",
     "text": [
      "Please enter one of the following: Currently Reading, Read, Abandoned, Paused, Plan to Read\n"
     ]
    }
   ],
   "source": [
    "# Test no input\n",
    "PersonA.library_stats()"
   ]
  },
  {
   "cell_type": "code",
   "execution_count": 22,
   "id": "b8b39248-e65b-497c-b667-c13a1160c733",
   "metadata": {},
   "outputs": [
    {
     "name": "stdout",
     "output_type": "stream",
     "text": [
      "Please enter one of the following: Currently Reading, Read, Abandoned, Paused, Plan to Read\n"
     ]
    }
   ],
   "source": [
    "# Test wrong input\n",
    "PersonA.library_stats('Hello')"
   ]
  },
  {
   "cell_type": "markdown",
   "id": "f6bb9aa9-2a1b-40d6-b3a8-8788e6d5fac1",
   "metadata": {},
   "source": [
    "<h5>Looks like all methods work as in intended with incorrect inputs</h5>"
   ]
  }
 ],
 "metadata": {
  "kernelspec": {
   "display_name": "Python 3 (ipykernel)",
   "language": "python",
   "name": "python3"
  },
  "language_info": {
   "codemirror_mode": {
    "name": "ipython",
    "version": 3
   },
   "file_extension": ".py",
   "mimetype": "text/x-python",
   "name": "python",
   "nbconvert_exporter": "python",
   "pygments_lexer": "ipython3",
   "version": "3.9.6"
  }
 },
 "nbformat": 4,
 "nbformat_minor": 5
}
